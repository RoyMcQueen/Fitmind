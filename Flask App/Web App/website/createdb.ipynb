{
 "cells": [
  {
   "cell_type": "code",
   "execution_count": 14,
   "metadata": {},
   "outputs": [],
   "source": [
    "from flask_sqlalchemy import SQLAlchemy\n",
    "from flask_login import UserMixin\n",
    "from sqlalchemy.sql import func\n",
    "from flask import Flask\n",
    "from os import path\n",
    "from flask_login import LoginManager"
   ]
  },
  {
   "cell_type": "code",
   "execution_count": 15,
   "metadata": {},
   "outputs": [],
   "source": [
    "db = SQLAlchemy()\n",
    "DB_NAME = \"database.db\""
   ]
  },
  {
   "cell_type": "code",
   "execution_count": 16,
   "metadata": {},
   "outputs": [],
   "source": [
    "class Thought(db.Model):\n",
    "    id = db.Column(db.Integer, primary_key=True)\n",
    "    data = db.Column(db.String(10000))\n",
    "    date = db.Column(db.DateTime(timezone=True), default=func.now())\n",
    "    user_id = db.Column(db.Integer, db.ForeignKey('user.id'))\n",
    "    sentiment_class = db.Column(db.Integer)"
   ]
  },
  {
   "cell_type": "code",
   "execution_count": 17,
   "metadata": {},
   "outputs": [],
   "source": [
    "class User(db.Model, UserMixin):\n",
    "    id = db.Column(db.Integer, primary_key=True)\n",
    "    email = db.Column(db.String(150), unique=True)\n",
    "    password = db.Column(db.String(150))\n",
    "    first_name = db.Column(db.String(150))\n",
    "    thoughts = db.relationship('Thought')\n",
    "    role = db.Column(db.String(150))"
   ]
  },
  {
   "cell_type": "code",
   "execution_count": 18,
   "metadata": {},
   "outputs": [],
   "source": [
    "def create_database(app):\n",
    "    if not path.exists('website/' + DB_NAME):\n",
    "        db.create_all(app=app)\n",
    "        print('Created Database!')"
   ]
  },
  {
   "cell_type": "code",
   "execution_count": 19,
   "metadata": {},
   "outputs": [],
   "source": [
    "def create_app():\n",
    "    app = Flask(__name__)\n",
    "    app.config['SECRET_KEY'] = 'hjshjhdjah kjshkjdhjs'\n",
    "    app.config['SQLALCHEMY_DATABASE_URI'] = f'sqlite:///{DB_NAME}'\n",
    "    db.init_app(app)\n",
    "\n",
    "    from views import views\n",
    "    from auth import auth\n",
    "\n",
    "    app.register_blueprint(views, url_prefix='/')\n",
    "    app.register_blueprint(auth, url_prefix='/')\n",
    "\n",
    "    from models import User, Thought\n",
    "\n",
    "    create_database(app)\n",
    "\n",
    "    login_manager = LoginManager()\n",
    "    login_manager.login_view = 'auth.login'\n",
    "    login_manager.init_app(app)\n",
    "\n",
    "    @login_manager.user_loader\n",
    "    def load_user(id):\n",
    "        return User.query.get(int(id))\n",
    "\n",
    "    return app"
   ]
  },
  {
   "cell_type": "code",
   "execution_count": 20,
   "metadata": {},
   "outputs": [
    {
     "name": "stdout",
     "output_type": "stream",
     "text": [
      "Created Database!\n"
     ]
    },
    {
     "name": "stderr",
     "output_type": "stream",
     "text": [
      "/Users/ruiferreira/opt/anaconda3/envs/pyaudio_test/lib/python3.8/site-packages/flask_sqlalchemy/__init__.py:872: FSADeprecationWarning: SQLALCHEMY_TRACK_MODIFICATIONS adds significant overhead and will be disabled by default in the future.  Set it to True or False to suppress this warning.\n",
      "  warnings.warn(FSADeprecationWarning(\n"
     ]
    },
    {
     "data": {
      "text/plain": [
       "<Flask '__main__'>"
      ]
     },
     "execution_count": 20,
     "metadata": {},
     "output_type": "execute_result"
    }
   ],
   "source": [
    "create_app()"
   ]
  },
  {
   "cell_type": "markdown",
   "metadata": {},
   "source": [
    "## CHANGE TO THIS WHEN CREATE DATABASE"
   ]
  },
  {
   "cell_type": "code",
   "execution_count": null,
   "metadata": {},
   "outputs": [],
   "source": [
    "# views [TO USE AFTER CREATING DB!]\n",
    "from operator import index\n",
    "from flask import Blueprint, render_template, request, flash, jsonify\n",
    "from flask_login import login_required, current_user\n",
    "from website import wordclouding\n",
    "from website.plots import *\n",
    "from models import Thought\n",
    "from . import db\n",
    "import json\n",
    "from sentiment_no_voice  import thought_entry\n",
    "import pandas as pd\n",
    "from frequency import word_frequency, word_frequency_pairs\n",
    "import sqlite3\n",
    "from wordclouding import wordclouding\n",
    "import os\n",
    "from sentiment_specialist  import *\n",
    "from website import sentiment_specialist\n",
    "\n",
    "views = Blueprint('views', __name__)\n",
    "\n",
    "#con = sqlite3.connect('website/database.db', check_same_thread=False)\n",
    "\n",
    "#cursor = con.cursor()"
   ]
  },
  {
   "cell_type": "code",
   "execution_count": null,
   "metadata": {},
   "outputs": [],
   "source": [
    "## auth.py\n",
    "from flask import Blueprint, render_template, request, flash, redirect, url_for\n",
    "from models import User\n",
    "from werkzeug.security import generate_password_hash, check_password_hash\n",
    "from __init__ import db\n",
    "from flask_login import login_user, login_required, logout_user, current_user"
   ]
  },
  {
   "cell_type": "code",
   "execution_count": null,
   "metadata": {},
   "outputs": [],
   "source": [
    "## models.py\n",
    "from __init__ import db\n",
    "from flask_login import UserMixin\n",
    "from sqlalchemy.sql import func\n",
    "import sqlite3"
   ]
  },
  {
   "cell_type": "markdown",
   "metadata": {},
   "source": [
    "## REVERT BACK TO THIS WHEN CREATING DATABASE (OR CMD Z)"
   ]
  },
  {
   "cell_type": "code",
   "execution_count": null,
   "metadata": {},
   "outputs": [],
   "source": [
    "# views [TO USE AFTER CREATING DB!]\n",
    "from operator import index\n",
    "from flask import Blueprint, render_template, request, flash, jsonify\n",
    "from flask_login import login_required, current_user\n",
    "from website import wordclouding\n",
    "from website.plots import *\n",
    "from .models import Thought\n",
    "from . import db\n",
    "import json\n",
    "from .sentiment_no_voice  import thought_entry\n",
    "import pandas as pd\n",
    "from .frequency import word_frequency, word_frequency_pairs\n",
    "import sqlite3\n",
    "from .wordclouding import wordclouding\n",
    "import os\n",
    "from .sentiment_specialist  import *\n",
    "from website import sentiment_specialist\n"
   ]
  },
  {
   "cell_type": "code",
   "execution_count": null,
   "metadata": {},
   "outputs": [],
   "source": [
    "# auth\n",
    "\n",
    "from flask import Blueprint, render_template, request, flash, redirect, url_for\n",
    "from .models import User\n",
    "from werkzeug.security import generate_password_hash, check_password_hash\n",
    "from . import db\n",
    "from flask_login import login_user, login_required, logout_user, current_user\n"
   ]
  },
  {
   "cell_type": "code",
   "execution_count": null,
   "metadata": {},
   "outputs": [],
   "source": [
    "## models\n",
    "\n",
    "from . import db\n",
    "from flask_login import UserMixin\n",
    "from sqlalchemy.sql import func\n",
    "import sqlite3"
   ]
  }
 ],
 "metadata": {
  "kernelspec": {
   "display_name": "Python 3.8.13 ('pyaudio_test')",
   "language": "python",
   "name": "python3"
  },
  "language_info": {
   "codemirror_mode": {
    "name": "ipython",
    "version": 3
   },
   "file_extension": ".py",
   "mimetype": "text/x-python",
   "name": "python",
   "nbconvert_exporter": "python",
   "pygments_lexer": "ipython3",
   "version": "3.8.13"
  },
  "orig_nbformat": 4,
  "vscode": {
   "interpreter": {
    "hash": "76da104b0a524d77f76201170280ff6b4adbe7a582aa7802869f1f373cbce93d"
   }
  }
 },
 "nbformat": 4,
 "nbformat_minor": 2
}
