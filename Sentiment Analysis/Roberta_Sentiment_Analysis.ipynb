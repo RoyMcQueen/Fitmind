{
 "cells": [
  {
   "cell_type": "code",
   "execution_count": 90,
   "metadata": {},
   "outputs": [],
   "source": [
    "from transformers import AutoTokenizer, AutoModelForSequenceClassification\n",
    "from scipy.special import softmax\n",
    "import datetime\n",
    "import time\n",
    "import speech_recognition as sr\n",
    "import pandas as pd"
   ]
  },
  {
   "cell_type": "code",
   "execution_count": 91,
   "metadata": {},
   "outputs": [],
   "source": [
    "test_sentiment_df = pd.read_csv('CoreData.csv', sep=';')"
   ]
  },
  {
   "cell_type": "code",
   "execution_count": 92,
   "metadata": {},
   "outputs": [],
   "source": [
    "replies_text = test_sentiment_df[pd.to_numeric(test_sentiment_df['Reply'], errors='coerce').isnull()]"
   ]
  },
  {
   "cell_type": "code",
   "execution_count": 93,
   "metadata": {},
   "outputs": [],
   "source": [
    "replies_text = replies_text['Reply']"
   ]
  },
  {
   "cell_type": "code",
   "execution_count": 94,
   "metadata": {},
   "outputs": [],
   "source": [
    "replies_text = replies_text.dropna()"
   ]
  },
  {
   "cell_type": "code",
   "execution_count": 95,
   "metadata": {},
   "outputs": [
    {
     "data": {
      "text/plain": [
       "10619"
      ]
     },
     "execution_count": 95,
     "metadata": {},
     "output_type": "execute_result"
    }
   ],
   "source": [
    "len(replies_text)"
   ]
  },
  {
   "cell_type": "code",
   "execution_count": 96,
   "metadata": {},
   "outputs": [],
   "source": [
    "# load model and tokenizer\n",
    "roberta = \"cardiffnlp/twitter-roberta-base-sentiment\"\n",
    "\n",
    "model = AutoModelForSequenceClassification.from_pretrained(roberta)\n",
    "tokenizer = AutoTokenizer.from_pretrained(roberta)\n",
    "\n",
    "labels = ['Negative', 'Neutral', 'Positive']\n",
    "\n"
   ]
  },
  {
   "cell_type": "code",
   "execution_count": 98,
   "metadata": {},
   "outputs": [
    {
     "name": "stdout",
     "output_type": "stream",
     "text": [
      "shame\n",
      "Negative 0.845995\n",
      "Neutral 0.13474905\n",
      "Positive 0.019255958\n"
     ]
    }
   ],
   "source": [
    "thought = replies_text.iloc[1600]\n",
    "\n",
    "encoded_thought = tokenizer(thought, return_tensors='pt')\n",
    "print(thought)\n",
    "\n",
    "\n",
    "output = model(**encoded_thought)\n",
    "\n",
    "scores = output[0][0].detach().numpy()\n",
    "scores = softmax(scores)\n",
    "\n",
    "for i in range(len(scores)):\n",
    "    \n",
    "    l = labels[i]\n",
    "    s = scores[i]\n",
    "    print(l,s)"
   ]
  },
  {
   "cell_type": "code",
   "execution_count": null,
   "metadata": {},
   "outputs": [],
   "source": [
    "# thought_entries_df = pd.DataFrame(columns = ['Situation','Automatic Thoughts','Emotions/Feelings','Distress','Sent_Negatve','Sent_Neutral','Sent_Positive','Timestamp'])"
   ]
  },
  {
   "cell_type": "code",
   "execution_count": 99,
   "metadata": {},
   "outputs": [],
   "source": [
    "def thought_entry():\n",
    "\n",
    "    situation = input('Briefly describe the situation')\n",
    "    thought = input('What is your thought?')\n",
    "    emotion = input('How does it make you feel?')\n",
    "    distress = input('Can you input a level of distress between 1 to 10?')\n",
    "\n",
    "    timestamp = datetime.datetime.now()\n",
    "\n",
    "    encoded_thought = tokenizer(thought, return_tensors='pt')\n",
    "\n",
    "    output = model(**encoded_thought)\n",
    "\n",
    "    scores = output[0][0].detach().numpy()\n",
    "    scores = softmax(scores)\n",
    "\n",
    "    for i in range(len(scores)):\n",
    "    \n",
    "        l = labels[i]\n",
    "        s = scores[i]\n",
    "\n",
    "    thought_entries_df.loc[len(thought_entries_df.index)] = [situation, thought, emotion, distress, scores[0],scores[1],scores[2],timestamp.strftime(\"%B %d, %Y, %H:%Mh\")]\n",
    "    \n",
    "\n",
    "\n"
   ]
  },
  {
   "cell_type": "code",
   "execution_count": null,
   "metadata": {},
   "outputs": [],
   "source": []
  },
  {
   "cell_type": "code",
   "execution_count": null,
   "metadata": {},
   "outputs": [
    {
     "data": {
      "text/plain": [
       "\" def thought_entry_TEST(thought):\\n\\n    situation = 'situation'\\n    emotion = 'emotion'\\n    distress = 'distress'\\n\\n    encoded_thought = tokenizer(thought, return_tensors='pt')\\n\\n    output = model(**encoded_thought)\\n\\n    scores = output[0][0].detach().numpy()\\n    scores = softmax(scores)\\n\\n    for i in range(len(scores)):\\n    \\n        l = labels[i]\\n        s = scores[i]\\n\\n    thought_entries_df.loc[len(thought_entries_df.index)] = [situation, thought, emotion, distress, scores[0],scores[1],scores[2]]\""
      ]
     },
     "execution_count": 39,
     "metadata": {},
     "output_type": "execute_result"
    }
   ],
   "source": [
    "\"\"\" def thought_entry_TEST(thought):\n",
    "\n",
    "    situation = 'situation'\n",
    "    emotion = 'emotion'\n",
    "    distress = 'distress'\n",
    "\n",
    "    encoded_thought = tokenizer(thought, return_tensors='pt')\n",
    "\n",
    "    output = model(**encoded_thought)\n",
    "\n",
    "    scores = output[0][0].detach().numpy()\n",
    "    scores = softmax(scores)\n",
    "\n",
    "    for i in range(len(scores)):\n",
    "    \n",
    "        l = labels[i]\n",
    "        s = scores[i]\n",
    "\n",
    "    thought_entries_df.loc[len(thought_entries_df.index)] = [situation, thought, emotion, distress, scores[0],scores[1],scores[2]]\"\"\""
   ]
  },
  {
   "cell_type": "code",
   "execution_count": null,
   "metadata": {},
   "outputs": [
    {
     "data": {
      "text/plain": [
       "\" for reply in replies_text['Reply'].iloc[:1000]:\\n    thought_entry_TEST(reply) \""
      ]
     },
     "execution_count": 40,
     "metadata": {},
     "output_type": "execute_result"
    }
   ],
   "source": [
    "\"\"\" for reply in replies_text['Reply'].iloc[:1000]:\n",
    "    thought_entry_TEST(reply) \"\"\""
   ]
  },
  {
   "cell_type": "code",
   "execution_count": null,
   "metadata": {},
   "outputs": [
    {
     "data": {
      "text/plain": [
       "\" thought_entries_df.to_csv('test_count_frequency.csv', index = False) \""
      ]
     },
     "execution_count": 41,
     "metadata": {},
     "output_type": "execute_result"
    }
   ],
   "source": [
    "\"\"\" thought_entries_df.to_csv('test_count_frequency.csv', index = False) \"\"\""
   ]
  },
  {
   "cell_type": "code",
   "execution_count": null,
   "metadata": {},
   "outputs": [],
   "source": [
    "# basic sentiment analysis; explore other models ahead\n",
    "\n",
    "# learn more about CBT to prepare the inputs of the user"
   ]
  },
  {
   "cell_type": "code",
   "execution_count": null,
   "metadata": {},
   "outputs": [],
   "source": [
    "# User inputs\n",
    "\n",
    "# Situation -> Brief Description of the situation\n",
    "# Automatic Thoughts -> The thought or general overview of the thought going through your head\n",
    "# Emotions/Feelings -> Just the emotions/feelings [perhaps make this weigh more on the sentiment score depending on if the emotion is positive\n",
    "# or negative]\n",
    "\n",
    "\n",
    "# Psychologist Inputs\n",
    "\n",
    "# Hot Thought: Finding a way to lump many thoughts of a particular user and trying to identify the trend \n",
    "# To go together with the user once the hot thought has been determined: Evidence that supports the hot thought vs. Evidence against it\n",
    "# Propose alternative Thoughts to the Hot Thought"
   ]
  },
  {
   "cell_type": "code",
   "execution_count": null,
   "metadata": {},
   "outputs": [],
   "source": [
    "# thought_entry()"
   ]
  },
  {
   "cell_type": "code",
   "execution_count": null,
   "metadata": {},
   "outputs": [],
   "source": [
    "\n",
    "## depending on the distress level (if it's very high or very low, make it weigh on the sentiment)\n",
    "## also make bins for the sentiments (very positive, positive, neutral, negative, very negative)"
   ]
  },
  {
   "cell_type": "code",
   "execution_count": 100,
   "metadata": {},
   "outputs": [],
   "source": [
    "# need to find out how to create an dataframe for each user\n",
    "\n",
    "thought_entries_df = pd.DataFrame(columns = ['Situation','Automatic Thoughts','Emotions/Feelings','Distress',\n",
    "                                                'Sentiment','Timestamp'])"
   ]
  },
  {
   "cell_type": "code",
   "execution_count": 101,
   "metadata": {},
   "outputs": [],
   "source": [
    "# break this into different functions\n",
    "\n",
    "def thought_entry_voice():\n",
    "    \n",
    "    \n",
    "    # speech recognition objects\n",
    "\n",
    "    r = sr.Recognizer()\n",
    "    mic = sr.Microphone()   \n",
    "\n",
    "    # series of inputs \n",
    "\n",
    "    situation = input('Briefly describe the situation')\n",
    "\n",
    "    # input for the thought; find a better way to do this\n",
    "   \n",
    "    with mic as source:\n",
    "        r.adjust_for_ambient_noise(source, 1)\n",
    "        print('What is your thought?')\n",
    "        audio = r.listen(source)\n",
    "        time.sleep(1)\n",
    "        \n",
    "    thought = r.recognize_google(audio)\n",
    "    emotion = input('How does it make you feel?')\n",
    "    distress = input('Can you input a level of distress between 1 to 10?')\n",
    "\n",
    "    # create the timestamp of the entry\n",
    "\n",
    "    timestamp = datetime.datetime.now()\n",
    "\n",
    "    # tokenizing\n",
    "\n",
    "    encoded_thought = tokenizer(thought, return_tensors='pt')\n",
    "\n",
    "    output = model(**encoded_thought)\n",
    "\n",
    "    scores = output[0][0].detach().numpy()\n",
    "    scores = softmax(scores)\n",
    "\n",
    "    for i in range(len(scores)):\n",
    "    \n",
    "        l = labels[i]\n",
    "        s = scores[i]\n",
    "\n",
    "\n",
    "    scores_list = [scores[i] for i in range(len(scores))]\n",
    "    labels_list = [labels[i] for i in range(len(scores))]\n",
    "    zipped = list(zip(scores_list,labels_list))\n",
    "\n",
    "    thought_entries_df.loc[len(thought_entries_df.index)] = [situation, thought, emotion, distress, max(zipped)[1],timestamp.strftime(\"%B %d, %Y, %H:%Mh\")]\n",
    "    \n",
    "    return thought_entries_df\n",
    "\n",
    "\n"
   ]
  },
  {
   "cell_type": "code",
   "execution_count": 102,
   "metadata": {},
   "outputs": [],
   "source": [
    "def thought_test (thought):\n",
    "\n",
    "    # thought = input('What is your thought?')\n",
    "\n",
    "    timestamp = datetime.datetime.now()\n",
    "\n",
    "    encoded_thought = tokenizer(thought, return_tensors='pt')\n",
    "\n",
    "    output = model(**encoded_thought)\n",
    "\n",
    "    scores = output[0][0].detach().numpy()\n",
    "    scores = softmax(scores)\n",
    "\n",
    "    for i in range(len(scores)):\n",
    "    \n",
    "        l = labels[i]\n",
    "        s = scores[i]\n",
    "\n",
    "    \n",
    "    scores_list = [scores[i] for i in range(len(scores))]\n",
    "    labels_list = [labels[i] for i in range(len(scores))]\n",
    "    zipped = list(zip(scores_list,labels_list))\n",
    "\n",
    "\n",
    "    return max(zipped)[1]"
   ]
  },
  {
   "cell_type": "code",
   "execution_count": 103,
   "metadata": {},
   "outputs": [
    {
     "data": {
      "text/plain": [
       "'Positive'"
      ]
     },
     "execution_count": 103,
     "metadata": {},
     "output_type": "execute_result"
    }
   ],
   "source": [
    "thought_test('I am very happy today')"
   ]
  },
  {
   "cell_type": "code",
   "execution_count": 130,
   "metadata": {},
   "outputs": [],
   "source": [
    "thought_entries_df = pd.DataFrame(columns = ['Thoughts','Sent_Negative','Sent_Neutral','Sent_Positive',\n",
    "                                                'Sentiment'])"
   ]
  },
  {
   "cell_type": "code",
   "execution_count": 131,
   "metadata": {},
   "outputs": [],
   "source": [
    "def thought_entry_specialist(thought):\n",
    "\n",
    "\n",
    "\n",
    "    timestamp = datetime.datetime.now()\n",
    "\n",
    "    encoded_thought = tokenizer(thought, return_tensors='pt')\n",
    "\n",
    "    output = model(**encoded_thought)\n",
    "\n",
    "    scores = output[0][0].detach().numpy()\n",
    "    scores = softmax(scores)\n",
    "\n",
    "    for i in range(len(scores)):\n",
    "    \n",
    "        l = labels[i]\n",
    "        s = scores[i]\n",
    "\n",
    "    \n",
    "    scores_list = [scores[i] for i in range(len(scores))]\n",
    "    labels_list = [labels[i] for i in range(len(scores))]\n",
    "    zipped = list(zip(scores_list,labels_list))\n",
    "\n",
    "    thought_entries_df.loc[len(thought_entries_df.index)] = [thought,scores[0],scores[1],scores[2], max(zipped)[1]]#,timestamp.strftime(\"%B %d, %Y, %H:%Mh\")]\n",
    "\n",
    "    "
   ]
  },
  {
   "cell_type": "code",
   "execution_count": null,
   "metadata": {},
   "outputs": [],
   "source": []
  },
  {
   "cell_type": "code",
   "execution_count": null,
   "metadata": {},
   "outputs": [],
   "source": []
  },
  {
   "cell_type": "code",
   "execution_count": 132,
   "metadata": {},
   "outputs": [
    {
     "data": {
      "text/html": [
       "<div>\n",
       "<style scoped>\n",
       "    .dataframe tbody tr th:only-of-type {\n",
       "        vertical-align: middle;\n",
       "    }\n",
       "\n",
       "    .dataframe tbody tr th {\n",
       "        vertical-align: top;\n",
       "    }\n",
       "\n",
       "    .dataframe thead th {\n",
       "        text-align: right;\n",
       "    }\n",
       "</style>\n",
       "<table border=\"1\" class=\"dataframe\">\n",
       "  <thead>\n",
       "    <tr style=\"text-align: right;\">\n",
       "      <th></th>\n",
       "      <th>Thoughts</th>\n",
       "      <th>Sent_Negative</th>\n",
       "      <th>Sent_Neutral</th>\n",
       "      <th>Sent_Positive</th>\n",
       "      <th>Sentiment</th>\n",
       "    </tr>\n",
       "  </thead>\n",
       "  <tbody>\n",
       "  </tbody>\n",
       "</table>\n",
       "</div>"
      ],
      "text/plain": [
       "Empty DataFrame\n",
       "Columns: [Thoughts, Sent_Negative, Sent_Neutral, Sent_Positive, Sentiment]\n",
       "Index: []"
      ]
     },
     "execution_count": 132,
     "metadata": {},
     "output_type": "execute_result"
    }
   ],
   "source": [
    "thought_entries_df"
   ]
  },
  {
   "cell_type": "code",
   "execution_count": 133,
   "metadata": {},
   "outputs": [],
   "source": [
    "replies_shuffled = replies_text.sample(frac=1)"
   ]
  },
  {
   "cell_type": "code",
   "execution_count": 134,
   "metadata": {},
   "outputs": [
    {
     "data": {
      "text/plain": [
       "14869    I gained a pound after being on a diet for a week\n",
       "3360     I forgot to order products for the store I wor...\n",
       "1579     My brother and I have been really getting into...\n",
       "3711               i would never try to wave to him again.\n",
       "13262                                  I hurt other people\n",
       "                               ...                        \n",
       "11017                     My acquaintance doesn't like me.\n",
       "8527     IT would just mean that I was annoyed.  I woul...\n",
       "2186     I am useless and cannot come up with words to ...\n",
       "9767     Something must be wrong with me to get rejecte...\n",
       "561                                             I'm boring\n",
       "Name: Reply, Length: 2000, dtype: object"
      ]
     },
     "execution_count": 134,
     "metadata": {},
     "output_type": "execute_result"
    }
   ],
   "source": [
    "user_1_thoughts = replies_shuffled.iloc[2000:4000]\n",
    "\n",
    "user_1_thoughts"
   ]
  },
  {
   "cell_type": "code",
   "execution_count": 135,
   "metadata": {},
   "outputs": [],
   "source": [
    "# user_1_thoughts.to_csv('user_2_thoughts.csv', index = False)"
   ]
  },
  {
   "cell_type": "code",
   "execution_count": 136,
   "metadata": {},
   "outputs": [
    {
     "data": {
      "text/plain": [
       "14869    I gained a pound after being on a diet for a week\n",
       "3360     I forgot to order products for the store I wor...\n",
       "1579     My brother and I have been really getting into...\n",
       "3711               i would never try to wave to him again.\n",
       "13262                                  I hurt other people\n",
       "                               ...                        \n",
       "11017                     My acquaintance doesn't like me.\n",
       "8527     IT would just mean that I was annoyed.  I woul...\n",
       "2186     I am useless and cannot come up with words to ...\n",
       "9767     Something must be wrong with me to get rejecte...\n",
       "561                                             I'm boring\n",
       "Name: Reply, Length: 2000, dtype: object"
      ]
     },
     "execution_count": 136,
     "metadata": {},
     "output_type": "execute_result"
    }
   ],
   "source": [
    "user_1_thoughts"
   ]
  },
  {
   "cell_type": "code",
   "execution_count": 139,
   "metadata": {},
   "outputs": [
    {
     "data": {
      "text/html": [
       "<div>\n",
       "<style scoped>\n",
       "    .dataframe tbody tr th:only-of-type {\n",
       "        vertical-align: middle;\n",
       "    }\n",
       "\n",
       "    .dataframe tbody tr th {\n",
       "        vertical-align: top;\n",
       "    }\n",
       "\n",
       "    .dataframe thead th {\n",
       "        text-align: right;\n",
       "    }\n",
       "</style>\n",
       "<table border=\"1\" class=\"dataframe\">\n",
       "  <thead>\n",
       "    <tr style=\"text-align: right;\">\n",
       "      <th></th>\n",
       "      <th>Thoughts</th>\n",
       "      <th>Sent_Negative</th>\n",
       "      <th>Sent_Neutral</th>\n",
       "      <th>Sent_Positive</th>\n",
       "      <th>Sentiment</th>\n",
       "    </tr>\n",
       "  </thead>\n",
       "  <tbody>\n",
       "    <tr>\n",
       "      <th>0</th>\n",
       "      <td>hello im cool</td>\n",
       "      <td>0.004106</td>\n",
       "      <td>0.08133</td>\n",
       "      <td>0.914565</td>\n",
       "      <td>Positive</td>\n",
       "    </tr>\n",
       "  </tbody>\n",
       "</table>\n",
       "</div>"
      ],
      "text/plain": [
       "        Thoughts  Sent_Negative  Sent_Neutral  Sent_Positive Sentiment\n",
       "0  hello im cool       0.004106       0.08133       0.914565  Positive"
      ]
     },
     "execution_count": 139,
     "metadata": {},
     "output_type": "execute_result"
    }
   ],
   "source": [
    "thought_entry_specialist('hello im cool')"
   ]
  },
  {
   "cell_type": "code",
   "execution_count": null,
   "metadata": {},
   "outputs": [],
   "source": []
  }
 ],
 "metadata": {
  "kernelspec": {
   "display_name": "Python 3.8.13 ('pyaudio_test')",
   "language": "python",
   "name": "python3"
  },
  "language_info": {
   "codemirror_mode": {
    "name": "ipython",
    "version": 3
   },
   "file_extension": ".py",
   "mimetype": "text/x-python",
   "name": "python",
   "nbconvert_exporter": "python",
   "pygments_lexer": "ipython3",
   "version": "3.8.13"
  },
  "orig_nbformat": 4,
  "vscode": {
   "interpreter": {
    "hash": "76da104b0a524d77f76201170280ff6b4adbe7a582aa7802869f1f373cbce93d"
   }
  }
 },
 "nbformat": 4,
 "nbformat_minor": 2
}
